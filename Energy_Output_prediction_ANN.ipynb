{
  "nbformat": 4,
  "nbformat_minor": 0,
  "metadata": {
    "colab": {
      "name": "Energy_Output_prediction_ANN",
      "provenance": [],
      "collapsed_sections": [],
      "toc_visible": true
    },
    "kernelspec": {
      "name": "python3",
      "display_name": "Python 3"
    }
  },
  "cells": [
    {
      "cell_type": "markdown",
      "metadata": {
        "id": "3cbb7fRy-eyr",
        "colab_type": "text"
      },
      "source": [
        "## Artificial Neural Network\n",
        "ANN Regression model to predict the electrical energy output of a Combined Cycle Power Plant\n"
      ]
    },
    {
      "cell_type": "markdown",
      "metadata": {
        "id": "8sNDnxE2-pwE",
        "colab_type": "text"
      },
      "source": [
        "### Importing the libraries"
      ]
    },
    {
      "cell_type": "code",
      "metadata": {
        "id": "Yhq5ILvlzBM5",
        "colab_type": "code",
        "colab": {}
      },
      "source": [
        "import numpy as np\n",
        "import pandas as pd\n",
        "import tensorflow as tf"
      ],
      "execution_count": 1,
      "outputs": []
    },
    {
      "cell_type": "markdown",
      "metadata": {
        "id": "AG3FQEch-yuA",
        "colab_type": "text"
      },
      "source": [
        "## Data Preprocessing"
      ]
    },
    {
      "cell_type": "markdown",
      "metadata": {
        "id": "-4zq8Mza_D9O",
        "colab_type": "text"
      },
      "source": [
        "### Importing the dataset"
      ]
    },
    {
      "cell_type": "code",
      "metadata": {
        "id": "kxjfkSf8zOnl",
        "colab_type": "code",
        "colab": {}
      },
      "source": [
        "dataset = pd.read_excel(\"Folds5x2_pp.xlsx\")\n",
        "x = dataset.iloc[:, : -1] #matrix of features\n",
        "y = dataset.iloc[:, -1]  #dependent variables"
      ],
      "execution_count": 2,
      "outputs": []
    },
    {
      "cell_type": "code",
      "metadata": {
        "id": "oRXypsAA3SM4",
        "colab_type": "code",
        "colab": {
          "base_uri": "https://localhost:8080/",
          "height": 459
        },
        "outputId": "656b17f9-3486-4be3-8e0a-eb44f7db1c03"
      },
      "source": [
        "print(x)\n",
        "print(y)"
      ],
      "execution_count": 3,
      "outputs": [
        {
          "output_type": "stream",
          "text": [
            "         AT      V       AP     RH\n",
            "0     14.96  41.76  1024.07  73.17\n",
            "1     25.18  62.96  1020.04  59.08\n",
            "2      5.11  39.40  1012.16  92.14\n",
            "3     20.86  57.32  1010.24  76.64\n",
            "4     10.82  37.50  1009.23  96.62\n",
            "...     ...    ...      ...    ...\n",
            "9563  16.65  49.69  1014.01  91.00\n",
            "9564  13.19  39.18  1023.67  66.78\n",
            "9565  31.32  74.33  1012.92  36.48\n",
            "9566  24.48  69.45  1013.86  62.39\n",
            "9567  21.60  62.52  1017.23  67.87\n",
            "\n",
            "[9568 rows x 4 columns]\n",
            "0       463.26\n",
            "1       444.37\n",
            "2       488.56\n",
            "3       446.48\n",
            "4       473.90\n",
            "         ...  \n",
            "9563    460.03\n",
            "9564    469.62\n",
            "9565    429.57\n",
            "9566    435.74\n",
            "9567    453.28\n",
            "Name: PE, Length: 9568, dtype: float64\n"
          ],
          "name": "stdout"
        }
      ]
    },
    {
      "cell_type": "markdown",
      "metadata": {
        "id": "VC6omXel_Up0",
        "colab_type": "text"
      },
      "source": [
        "### Splitting the dataset into the Training set and Test set"
      ]
    },
    {
      "cell_type": "code",
      "metadata": {
        "id": "Mnx26hpb3jQ2",
        "colab_type": "code",
        "colab": {}
      },
      "source": [
        "from sklearn.model_selection import train_test_split\n",
        "x_train, x_test, y_train, y_test = train_test_split(x, y, test_size = 0.2, random_state = 0)"
      ],
      "execution_count": 4,
      "outputs": []
    },
    {
      "cell_type": "markdown",
      "metadata": {
        "id": "_mSLlAT9_eyI",
        "colab_type": "text"
      },
      "source": [
        "## Building the ANN"
      ]
    },
    {
      "cell_type": "markdown",
      "metadata": {
        "id": "CsBULd_f_wLY",
        "colab_type": "text"
      },
      "source": [
        "### Initializing the ANN"
      ]
    },
    {
      "cell_type": "code",
      "metadata": {
        "id": "BdZ_VmT_5h_b",
        "colab_type": "code",
        "colab": {}
      },
      "source": [
        "ann = tf.keras.models.Sequential()"
      ],
      "execution_count": 5,
      "outputs": []
    },
    {
      "cell_type": "markdown",
      "metadata": {
        "id": "iitAFJS_ABUn",
        "colab_type": "text"
      },
      "source": [
        "### Adding the input layer and the first hidden layer"
      ]
    },
    {
      "cell_type": "code",
      "metadata": {
        "id": "XwmwZeNL-iqy",
        "colab_type": "code",
        "colab": {}
      },
      "source": [
        "ann.add(tf.keras.layers.Dense(units=6, activation='relu'))"
      ],
      "execution_count": 6,
      "outputs": []
    },
    {
      "cell_type": "markdown",
      "metadata": {
        "id": "-lb4kK_wAKbs",
        "colab_type": "text"
      },
      "source": [
        "### Adding the second hidden layer"
      ]
    },
    {
      "cell_type": "code",
      "metadata": {
        "id": "K7Xj7lmZ-vpY",
        "colab_type": "code",
        "colab": {}
      },
      "source": [
        "ann.add(tf.keras.layers.Dense(units=6, activation='relu'))"
      ],
      "execution_count": 7,
      "outputs": []
    },
    {
      "cell_type": "markdown",
      "metadata": {
        "id": "jwMOmKb3AdBY",
        "colab_type": "text"
      },
      "source": [
        "### Adding the output layer"
      ]
    },
    {
      "cell_type": "code",
      "metadata": {
        "id": "8QbWhSd8-yWy",
        "colab_type": "code",
        "colab": {}
      },
      "source": [
        "ann.add(tf.keras.layers.Dense(units=1))"
      ],
      "execution_count": 8,
      "outputs": []
    },
    {
      "cell_type": "markdown",
      "metadata": {
        "id": "fq7e4fF6A1yy",
        "colab_type": "text"
      },
      "source": [
        "## Training the ANN"
      ]
    },
    {
      "cell_type": "markdown",
      "metadata": {
        "id": "qDeylAs2An25",
        "colab_type": "text"
      },
      "source": [
        "### Compiling the ANN"
      ]
    },
    {
      "cell_type": "code",
      "metadata": {
        "id": "p0HcQZR8DAlW",
        "colab_type": "code",
        "colab": {}
      },
      "source": [
        "ann.compile(optimizer = 'adam', loss = 'mean_squared_error')"
      ],
      "execution_count": 9,
      "outputs": []
    },
    {
      "cell_type": "markdown",
      "metadata": {
        "id": "YjVuiybYOo7r",
        "colab_type": "text"
      },
      "source": [
        "### Training the ANN model on the Training set"
      ]
    },
    {
      "cell_type": "code",
      "metadata": {
        "id": "dWE9W51CDpO-",
        "colab_type": "code",
        "colab": {
          "base_uri": "https://localhost:8080/",
          "height": 1000
        },
        "outputId": "be10b23e-2fe2-4fb5-b75d-37c38a648fcd"
      },
      "source": [
        "ann.fit(x_train, y_train, batch_size = 32, epochs=100)"
      ],
      "execution_count": 10,
      "outputs": [
        {
          "output_type": "stream",
          "text": [
            "Epoch 1/100\n",
            "WARNING:tensorflow:Layer dense is casting an input tensor from dtype float64 to the layer's dtype of float32, which is new behavior in TensorFlow 2.  The layer has dtype float32 because it's dtype defaults to floatx.\n",
            "\n",
            "If you intended to run this layer in float32, you can safely ignore this warning. If in doubt, this warning is likely only an issue if you are porting a TensorFlow 1.X model to TensorFlow 2.\n",
            "\n",
            "To change all layers to have dtype float64 by default, call `tf.keras.backend.set_floatx('float64')`. To change just this layer, pass dtype='float64' to the layer constructor. If you are the author of this layer, you can disable autocasting by passing autocast=False to the base Layer constructor.\n",
            "\n",
            "240/240 [==============================] - 0s 1ms/step - loss: 63687.8672\n",
            "Epoch 2/100\n",
            "240/240 [==============================] - 0s 1ms/step - loss: 397.0423\n",
            "Epoch 3/100\n",
            "240/240 [==============================] - 0s 1ms/step - loss: 367.1795\n",
            "Epoch 4/100\n",
            "240/240 [==============================] - 0s 1ms/step - loss: 354.7932\n",
            "Epoch 5/100\n",
            "240/240 [==============================] - 0s 1ms/step - loss: 340.2823\n",
            "Epoch 6/100\n",
            "240/240 [==============================] - 0s 1ms/step - loss: 323.3197\n",
            "Epoch 7/100\n",
            "240/240 [==============================] - 0s 1ms/step - loss: 305.4095\n",
            "Epoch 8/100\n",
            "240/240 [==============================] - 0s 1ms/step - loss: 285.9013\n",
            "Epoch 9/100\n",
            "240/240 [==============================] - 0s 1ms/step - loss: 264.9525\n",
            "Epoch 10/100\n",
            "240/240 [==============================] - 0s 1ms/step - loss: 243.4974\n",
            "Epoch 11/100\n",
            "240/240 [==============================] - 0s 1ms/step - loss: 221.0051\n",
            "Epoch 12/100\n",
            "240/240 [==============================] - 0s 1ms/step - loss: 199.0320\n",
            "Epoch 13/100\n",
            "240/240 [==============================] - 0s 1ms/step - loss: 176.9389\n",
            "Epoch 14/100\n",
            "240/240 [==============================] - 0s 1ms/step - loss: 155.2099\n",
            "Epoch 15/100\n",
            "240/240 [==============================] - 0s 1ms/step - loss: 134.3438\n",
            "Epoch 16/100\n",
            "240/240 [==============================] - 0s 1ms/step - loss: 114.9696\n",
            "Epoch 17/100\n",
            "240/240 [==============================] - 0s 973us/step - loss: 97.7120\n",
            "Epoch 18/100\n",
            "240/240 [==============================] - 0s 993us/step - loss: 82.2008\n",
            "Epoch 19/100\n",
            "240/240 [==============================] - 0s 1ms/step - loss: 68.5251\n",
            "Epoch 20/100\n",
            "240/240 [==============================] - 0s 993us/step - loss: 57.4185\n",
            "Epoch 21/100\n",
            "240/240 [==============================] - 0s 1ms/step - loss: 48.6320\n",
            "Epoch 22/100\n",
            "240/240 [==============================] - 0s 1ms/step - loss: 42.4198\n",
            "Epoch 23/100\n",
            "240/240 [==============================] - 0s 1ms/step - loss: 38.0263\n",
            "Epoch 24/100\n",
            "240/240 [==============================] - 0s 1ms/step - loss: 35.5347\n",
            "Epoch 25/100\n",
            "240/240 [==============================] - 0s 1ms/step - loss: 33.3418\n",
            "Epoch 26/100\n",
            "240/240 [==============================] - 0s 1ms/step - loss: 32.1546\n",
            "Epoch 27/100\n",
            "240/240 [==============================] - 0s 1ms/step - loss: 31.3982\n",
            "Epoch 28/100\n",
            "240/240 [==============================] - 0s 1ms/step - loss: 31.3700\n",
            "Epoch 29/100\n",
            "240/240 [==============================] - 0s 1ms/step - loss: 30.6792\n",
            "Epoch 30/100\n",
            "240/240 [==============================] - 0s 1ms/step - loss: 30.3746\n",
            "Epoch 31/100\n",
            "240/240 [==============================] - 0s 1ms/step - loss: 30.0591\n",
            "Epoch 32/100\n",
            "240/240 [==============================] - 0s 1ms/step - loss: 29.6729\n",
            "Epoch 33/100\n",
            "240/240 [==============================] - 0s 1ms/step - loss: 29.7575\n",
            "Epoch 34/100\n",
            "240/240 [==============================] - 0s 1ms/step - loss: 29.4899\n",
            "Epoch 35/100\n",
            "240/240 [==============================] - 0s 1ms/step - loss: 28.9668\n",
            "Epoch 36/100\n",
            "240/240 [==============================] - 0s 1ms/step - loss: 28.7608\n",
            "Epoch 37/100\n",
            "240/240 [==============================] - 0s 1ms/step - loss: 28.9750\n",
            "Epoch 38/100\n",
            "240/240 [==============================] - 0s 1ms/step - loss: 28.3565\n",
            "Epoch 39/100\n",
            "240/240 [==============================] - 0s 1ms/step - loss: 28.7383\n",
            "Epoch 40/100\n",
            "240/240 [==============================] - 0s 1ms/step - loss: 28.4979\n",
            "Epoch 41/100\n",
            "240/240 [==============================] - 0s 1ms/step - loss: 28.0684\n",
            "Epoch 42/100\n",
            "240/240 [==============================] - 0s 1ms/step - loss: 28.1016\n",
            "Epoch 43/100\n",
            "240/240 [==============================] - 0s 1ms/step - loss: 27.7266\n",
            "Epoch 44/100\n",
            "240/240 [==============================] - 0s 1ms/step - loss: 27.6791\n",
            "Epoch 45/100\n",
            "240/240 [==============================] - 0s 1ms/step - loss: 27.6045\n",
            "Epoch 46/100\n",
            "240/240 [==============================] - 0s 1ms/step - loss: 27.6690\n",
            "Epoch 47/100\n",
            "240/240 [==============================] - 0s 1ms/step - loss: 27.8129\n",
            "Epoch 48/100\n",
            "240/240 [==============================] - 0s 1ms/step - loss: 27.3364\n",
            "Epoch 49/100\n",
            "240/240 [==============================] - 0s 1ms/step - loss: 27.6319\n",
            "Epoch 50/100\n",
            "240/240 [==============================] - 0s 1ms/step - loss: 27.3073\n",
            "Epoch 51/100\n",
            "240/240 [==============================] - 0s 1ms/step - loss: 27.0698\n",
            "Epoch 52/100\n",
            "240/240 [==============================] - 0s 1ms/step - loss: 27.2531\n",
            "Epoch 53/100\n",
            "240/240 [==============================] - 0s 1ms/step - loss: 26.8416\n",
            "Epoch 54/100\n",
            "240/240 [==============================] - 0s 1ms/step - loss: 27.3650\n",
            "Epoch 55/100\n",
            "240/240 [==============================] - 0s 1ms/step - loss: 27.5011\n",
            "Epoch 56/100\n",
            "240/240 [==============================] - 0s 1ms/step - loss: 26.8038\n",
            "Epoch 57/100\n",
            "240/240 [==============================] - 0s 987us/step - loss: 26.6634\n",
            "Epoch 58/100\n",
            "240/240 [==============================] - 0s 1ms/step - loss: 26.6902\n",
            "Epoch 59/100\n",
            "240/240 [==============================] - 0s 1ms/step - loss: 26.8535\n",
            "Epoch 60/100\n",
            "240/240 [==============================] - 0s 1ms/step - loss: 26.7289\n",
            "Epoch 61/100\n",
            "240/240 [==============================] - 0s 1ms/step - loss: 26.5315\n",
            "Epoch 62/100\n",
            "240/240 [==============================] - 0s 1ms/step - loss: 27.5583\n",
            "Epoch 63/100\n",
            "240/240 [==============================] - 0s 1ms/step - loss: 26.4361\n",
            "Epoch 64/100\n",
            "240/240 [==============================] - 0s 1ms/step - loss: 27.2165\n",
            "Epoch 65/100\n",
            "240/240 [==============================] - 0s 1ms/step - loss: 26.4515\n",
            "Epoch 66/100\n",
            "240/240 [==============================] - 0s 1ms/step - loss: 26.8700\n",
            "Epoch 67/100\n",
            "240/240 [==============================] - 0s 1ms/step - loss: 27.8022\n",
            "Epoch 68/100\n",
            "240/240 [==============================] - 0s 1ms/step - loss: 26.9786\n",
            "Epoch 69/100\n",
            "240/240 [==============================] - 0s 1ms/step - loss: 26.4970\n",
            "Epoch 70/100\n",
            "240/240 [==============================] - 0s 994us/step - loss: 26.3926\n",
            "Epoch 71/100\n",
            "240/240 [==============================] - 0s 1ms/step - loss: 27.0228\n",
            "Epoch 72/100\n",
            "240/240 [==============================] - 0s 995us/step - loss: 26.5955\n",
            "Epoch 73/100\n",
            "240/240 [==============================] - 0s 1ms/step - loss: 26.5283\n",
            "Epoch 74/100\n",
            "240/240 [==============================] - 0s 1ms/step - loss: 26.2834\n",
            "Epoch 75/100\n",
            "240/240 [==============================] - 0s 1ms/step - loss: 26.4448\n",
            "Epoch 76/100\n",
            "240/240 [==============================] - 0s 1ms/step - loss: 26.3803\n",
            "Epoch 77/100\n",
            "240/240 [==============================] - 0s 969us/step - loss: 26.8017\n",
            "Epoch 78/100\n",
            "240/240 [==============================] - 0s 1ms/step - loss: 27.0730\n",
            "Epoch 79/100\n",
            "240/240 [==============================] - 0s 992us/step - loss: 26.4837\n",
            "Epoch 80/100\n",
            "240/240 [==============================] - 0s 1ms/step - loss: 27.3372\n",
            "Epoch 81/100\n",
            "240/240 [==============================] - 0s 1ms/step - loss: 26.9585\n",
            "Epoch 82/100\n",
            "240/240 [==============================] - 0s 1ms/step - loss: 26.9469\n",
            "Epoch 83/100\n",
            "240/240 [==============================] - 0s 1ms/step - loss: 26.9843\n",
            "Epoch 84/100\n",
            "240/240 [==============================] - 0s 1ms/step - loss: 26.4130\n",
            "Epoch 85/100\n",
            "240/240 [==============================] - 0s 996us/step - loss: 26.8397\n",
            "Epoch 86/100\n",
            "240/240 [==============================] - 0s 1ms/step - loss: 26.9448\n",
            "Epoch 87/100\n",
            "240/240 [==============================] - 0s 1ms/step - loss: 26.5040\n",
            "Epoch 88/100\n",
            "240/240 [==============================] - 0s 1ms/step - loss: 26.6400\n",
            "Epoch 89/100\n",
            "240/240 [==============================] - 0s 1ms/step - loss: 26.6977\n",
            "Epoch 90/100\n",
            "240/240 [==============================] - 0s 1ms/step - loss: 26.8532\n",
            "Epoch 91/100\n",
            "240/240 [==============================] - 0s 1ms/step - loss: 26.7127\n",
            "Epoch 92/100\n",
            "240/240 [==============================] - 0s 1ms/step - loss: 26.6740\n",
            "Epoch 93/100\n",
            "240/240 [==============================] - 0s 1ms/step - loss: 26.6801\n",
            "Epoch 94/100\n",
            "240/240 [==============================] - 0s 1ms/step - loss: 26.9761\n",
            "Epoch 95/100\n",
            "240/240 [==============================] - 0s 1ms/step - loss: 26.5104\n",
            "Epoch 96/100\n",
            "240/240 [==============================] - 0s 1ms/step - loss: 27.1159\n",
            "Epoch 97/100\n",
            "240/240 [==============================] - 0s 1ms/step - loss: 27.1348\n",
            "Epoch 98/100\n",
            "240/240 [==============================] - 0s 1ms/step - loss: 26.3724\n",
            "Epoch 99/100\n",
            "240/240 [==============================] - 0s 1ms/step - loss: 26.9103\n",
            "Epoch 100/100\n",
            "240/240 [==============================] - 0s 1ms/step - loss: 26.9304\n"
          ],
          "name": "stdout"
        },
        {
          "output_type": "execute_result",
          "data": {
            "text/plain": [
              "<tensorflow.python.keras.callbacks.History at 0x7f4b04301240>"
            ]
          },
          "metadata": {
            "tags": []
          },
          "execution_count": 10
        }
      ]
    },
    {
      "cell_type": "markdown",
      "metadata": {
        "id": "0H0zKKNEBLD5",
        "colab_type": "text"
      },
      "source": [
        "### Predicting the results of the Test set"
      ]
    },
    {
      "cell_type": "code",
      "metadata": {
        "id": "4NxbBcv6FtV1",
        "colab_type": "code",
        "colab": {
          "base_uri": "https://localhost:8080/",
          "height": 136
        },
        "outputId": "e46ba145-9bb6-454b-ecc2-c2318747372e"
      },
      "source": [
        "y_pred = ann.predict(x_test)\n",
        "np.set_printoptions(precision=2)\n",
        "print(np.concatenate((y_pred.reshape(len(y_pred),1), y_test.values.reshape(len(y_test),1)),1))"
      ],
      "execution_count": 20,
      "outputs": [
        {
          "output_type": "stream",
          "text": [
            "[[430.03 431.23]\n",
            " [461.11 460.01]\n",
            " [464.63 461.14]\n",
            " ...\n",
            " [471.83 473.26]\n",
            " [438.68 438.  ]\n",
            " [457.87 463.28]]\n"
          ],
          "name": "stdout"
        }
      ]
    }
  ]
}